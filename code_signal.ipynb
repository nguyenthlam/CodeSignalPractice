{
 "cells": [
  {
   "cell_type": "markdown",
   "metadata": {},
   "source": [
    "# This is notebook for CodeSignal practice tests"
   ]
  },
  {
   "cell_type": "code",
   "execution_count": 27,
   "metadata": {},
   "outputs": [],
   "source": [
    "import numpy as np"
   ]
  },
  {
   "cell_type": "markdown",
   "metadata": {},
   "source": [
    "# Rotate Matrix\n",
    "\n",
    "You are given an n x n 2D matrix that represents an image. Rotate the image by 90 degrees (clockwise).\n"
   ]
  },
  {
   "cell_type": "code",
   "execution_count": 32,
   "metadata": {},
   "outputs": [],
   "source": [
    "def rotateImage(a):\n",
    "    n = len(a)\n",
    "    m1 = n//2\n",
    "    m2 = m1 + n % 2\n",
    "    \n",
    "    for i in range(m2):\n",
    "        for j in range(m1):\n",
    "            tem = a[i][j]\n",
    "            a[i][j] = a[n-1-j][i]\n",
    "            a[n-1-j][i] = a[n-1-i][n-1-j]\n",
    "            a[n-1-i][n-1-j] = a[j][n-1-i]\n",
    "            a[j][n-1-i] = tem\n",
    "            \n",
    "    return a"
   ]
  },
  {
   "cell_type": "code",
   "execution_count": 29,
   "metadata": {},
   "outputs": [
    {
     "name": "stdout",
     "output_type": "stream",
     "text": [
      "[[1 2 3]\n",
      " [4 5 6]\n",
      " [7 8 9]]\n"
     ]
    }
   ],
   "source": [
    "a = [[1, 2, 3],\n",
    "     [4, 5, 6],\n",
    "     [7, 8, 9]]\n",
    "print(np.matrix(a))"
   ]
  },
  {
   "cell_type": "markdown",
   "metadata": {},
   "source": [
    "the output should be\n",
    "rotateImage(a) = "
   ]
  },
  {
   "cell_type": "code",
   "execution_count": 33,
   "metadata": {},
   "outputs": [
    {
     "name": "stdout",
     "output_type": "stream",
     "text": [
      "[[7 4 1]\n",
      " [8 5 2]\n",
      " [9 6 3]]\n"
     ]
    }
   ],
   "source": [
    "r = rotateImage(a)\n",
    "print(np.matrix(r))"
   ]
  },
  {
   "cell_type": "code",
   "execution_count": 7,
   "metadata": {},
   "outputs": [
    {
     "ename": "ValueError",
     "evalue": "invalid literal for int() with base 10: '.'",
     "output_type": "error",
     "traceback": [
      "\u001b[0;31m---------------------------------------------------------------------------\u001b[0m",
      "\u001b[0;31mValueError\u001b[0m                                Traceback (most recent call last)",
      "\u001b[0;32m<ipython-input-7-647a0980c381>\u001b[0m in \u001b[0;36m<module>\u001b[0;34m\u001b[0m\n\u001b[1;32m      1\u001b[0m \u001b[0ma\u001b[0m \u001b[0;34m=\u001b[0m \u001b[0;34m\".\"\u001b[0m\u001b[0;34m\u001b[0m\u001b[0;34m\u001b[0m\u001b[0m\n\u001b[0;32m----> 2\u001b[0;31m \u001b[0mint\u001b[0m\u001b[0;34m(\u001b[0m\u001b[0ma\u001b[0m\u001b[0;34m)\u001b[0m\u001b[0;34m\u001b[0m\u001b[0;34m\u001b[0m\u001b[0m\n\u001b[0m",
      "\u001b[0;31mValueError\u001b[0m: invalid literal for int() with base 10: '.'"
     ]
    }
   ],
   "source": [
    "a = \".\"\n",
    "int(a)"
   ]
  },
  {
   "cell_type": "markdown",
   "metadata": {},
   "source": [
    "# First Duplicate\n",
    "\n",
    "Given an array a that contains only numbers in the range from *1* to *a.length*, find the first duplicate **number** for which the second occurrence has the minimal index. In other words, if there are more than 1 duplicated numbers, return the **number** for which the second occurrence has a smaller index than the second occurrence of the other number does. If there are no such elements, return *-1*."
   ]
  },
  {
   "cell_type": "code",
   "execution_count": 34,
   "metadata": {},
   "outputs": [],
   "source": [
    "def firstDuplicate(a):\n",
    "\n",
    "    res = -1\n",
    "    maxa = max(a) + 1\n",
    "    count = [0]*maxa\n",
    "    \n",
    "    for n in a: \n",
    "        count[n] += 1\n",
    "        if count[n] == 2:\n",
    "            res = n\n",
    "            break    \n",
    "\n",
    "    return res"
   ]
  },
  {
   "cell_type": "code",
   "execution_count": 35,
   "metadata": {},
   "outputs": [
    {
     "name": "stdout",
     "output_type": "stream",
     "text": [
      "3\n"
     ]
    }
   ],
   "source": [
    "a = [2, 1, 3, 5, 3, 2]\n",
    "r = firstDuplicate(a)\n",
    "print(r)"
   ]
  },
  {
   "cell_type": "markdown",
   "metadata": {},
   "source": [
    "# First non repeating character\n",
    "\n",
    "Given a string *s* consisting of small English letters, find and return the first instance of a non-repeating character in it. If there is no such character, return *'_'*."
   ]
  },
  {
   "cell_type": "code",
   "execution_count": 36,
   "metadata": {},
   "outputs": [],
   "source": [
    "def firstNotRepeatingCharacter(s):\n",
    "    \n",
    "    a = 'abcdefghijklmnoqrstuvwxyz'\n",
    "    ch = [c for c in a] # make a list of the alphabet\n",
    "    l = len(a) # for sure length a = 26\n",
    "    \n",
    "    count = [0]*l # initiate counting\n",
    "    loc = [0]*l # initiate locations\n",
    "    \n",
    "    res = '_' # default result if nothing happens\n",
    "    \n",
    "    ls = len(s)\n",
    "    \n",
    "    for n in range(ls):\n",
    "        c = s[n]\n",
    "        for m in range(l): \n",
    "            if c == ch[m]: \n",
    "                count[m] += 1\n",
    "                loc[m] = n\n",
    "                break\n",
    "                \n",
    "    minl = ls\n",
    "    \n",
    "    for n in range(l):\n",
    "        if count[n] == 1:\n",
    "            if minl > loc[n]: \n",
    "                minl = loc[n]\n",
    "                res = ch[n]\n",
    "                \n",
    "    return res\n",
    "    \n",
    "    "
   ]
  },
  {
   "cell_type": "code",
   "execution_count": 38,
   "metadata": {},
   "outputs": [
    {
     "name": "stdout",
     "output_type": "stream",
     "text": [
      "c\n"
     ]
    }
   ],
   "source": [
    "s = \"abacabad\"\n",
    "fc = firstNotRepeatingCharacter(s)\n",
    "print(fc)"
   ]
  },
  {
   "cell_type": "markdown",
   "metadata": {},
   "source": [
    "# Compose ranges\n",
    "\n",
    "Given a sorted integer array that does not contain any duplicates, return a summary of the number ranges it contains."
   ]
  },
  {
   "cell_type": "code",
   "execution_count": 43,
   "metadata": {},
   "outputs": [],
   "source": [
    "def composeRanges(nums):\n",
    "    \n",
    "    length = len(nums)\n",
    "    if length == 0:\n",
    "        return []\n",
    "    \n",
    "    elif length == 1:\n",
    "        return [str(nums[0])]\n",
    "    \n",
    "    else:\n",
    "        res=[]\n",
    "        a = nums[0]\n",
    "        b = a\n",
    "        for n in range(1,length): \n",
    "            c = nums[n]\n",
    "            if c < b + 2:\n",
    "                if n < length - 1:\n",
    "                    b = c\n",
    "                    pass\n",
    "                else:\n",
    "                    s = str(a) + \"->\" + str(c)\n",
    "            \n",
    "                    res.append(s)\n",
    "            else:\n",
    "                s = str(a)\n",
    "                if b > a:\n",
    "                    s = s + \"->\" + str(b)\n",
    "                res.append(s)\n",
    "                a = c\n",
    "                b = c \n",
    "                if n == length - 1:\n",
    "                    res.append(str(c))\n",
    "                    \n",
    "        return res\n",
    "                    \n",
    "                    "
   ]
  },
  {
   "cell_type": "code",
   "execution_count": 44,
   "metadata": {},
   "outputs": [
    {
     "name": "stdout",
     "output_type": "stream",
     "text": [
      "['-1->2', '6->7', '9']\n"
     ]
    }
   ],
   "source": [
    "nums = [-1, 0, 1, 2, 6, 7, 9]\n",
    "r = composeRanges(nums)\n",
    "print(r)"
   ]
  },
  {
   "cell_type": "markdown",
   "metadata": {},
   "source": [
    "# House robber\n",
    "\n",
    "You are planning to rob houses on a specific street, and you know that every house on the street has a certain amount of money hidden. The only thing stopping you from robbing all of them in one night is that adjacent houses on the street have a connected security system. The system will automatically trigger an alarm if two adjacent houses are broken into on the same night.\n",
    "\n",
    "Given a list of non-negative integers *nums* representing the amount of money hidden in each house, determine the maximum amount of money you can rob in one night without triggering an alarm."
   ]
  },
  {
   "cell_type": "code",
   "execution_count": 45,
   "metadata": {},
   "outputs": [],
   "source": [
    "def houseRobber(nums):\n",
    "    length = len(nums)\n",
    "    if length <=1:\n",
    "        return sum(nums)\n",
    "    elif length == 2:\n",
    "        return max(nums)\n",
    "    elif length == 3:\n",
    "        return max(nums[0] + nums[2], nums[1])\n",
    "    elif length > 3:\n",
    "        a = nums[0]\n",
    "        b = max(a,nums[1])\n",
    "        c = max(nums[0] + nums[2], nums[1])\n",
    "        \n",
    "        for n in range(3,length):\n",
    "            d = max(nums[n] + b, nums[n-1] + a)\n",
    "            a = b\n",
    "            b = c\n",
    "            c = d\n",
    "            \n",
    "        return max(b, c)\n",
    "        "
   ]
  },
  {
   "cell_type": "code",
   "execution_count": 46,
   "metadata": {},
   "outputs": [
    {
     "name": "stdout",
     "output_type": "stream",
     "text": [
      "1489\n"
     ]
    }
   ],
   "source": [
    "nums = [232, 161, 89, 177, 117, 212, 126, 247, 155, 197, 88, 217, 81, 207]\n",
    "r = houseRobber(nums)\n",
    "print(r)"
   ]
  },
  {
   "cell_type": "markdown",
   "metadata": {},
   "source": [
    "# Climb stairs\n",
    "\n",
    "You are climbing a staircase that has *n* steps. You can take the steps either 1 or 2 at a time. Calculate how many distinct ways you can climb to the top of the staircase."
   ]
  },
  {
   "cell_type": "code",
   "execution_count": 47,
   "metadata": {},
   "outputs": [
    {
     "name": "stdout",
     "output_type": "stream",
     "text": [
      "10946\n"
     ]
    }
   ],
   "source": [
    "def climbingStairs(n):\n",
    "    if n == 1:\n",
    "        return 1\n",
    "    \n",
    "    elif n == 2: \n",
    "        return 2\n",
    "\n",
    "    else:\n",
    "        a = 1\n",
    "        b = 2\n",
    "        for i in range(n-2):\n",
    "            c = b\n",
    "            b = a + b\n",
    "            a = c \n",
    "        return b\n",
    "    \n",
    "n = 20\n",
    "print(climbingStairs(n))"
   ]
  },
  {
   "cell_type": "code",
   "execution_count": null,
   "metadata": {},
   "outputs": [],
   "source": []
  }
 ],
 "metadata": {
  "kernelspec": {
   "display_name": "Python 3",
   "language": "python",
   "name": "python3"
  },
  "language_info": {
   "codemirror_mode": {
    "name": "ipython",
    "version": 3
   },
   "file_extension": ".py",
   "mimetype": "text/x-python",
   "name": "python",
   "nbconvert_exporter": "python",
   "pygments_lexer": "ipython3",
   "version": "3.7.1"
  }
 },
 "nbformat": 4,
 "nbformat_minor": 2
}
